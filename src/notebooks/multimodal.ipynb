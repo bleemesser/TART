{
 "cells": [
  {
   "cell_type": "code",
   "execution_count": 1,
   "metadata": {},
   "outputs": [],
   "source": [
    "import os\n",
    "import sys\n",
    "\n",
    "import torch\n",
    "\n",
    "sys.path.append(f'{os.path.dirname(os.getcwd())}/')\n",
    "import warnings\n",
    "import yaml\n",
    "\n",
    "from tart.tart_modules import Tart\n",
    "from tart.registry import DATASET_REGISTRY\n",
    "\n",
    "warnings.filterwarnings(\"ignore\", category=UserWarning)\n",
    "warnings.filterwarnings(\"ignore\", category=FutureWarning)\n",
    "warnings.filterwarnings(\"ignore\", category=UserWarning, module='tqdm')"
   ]
  },
  {
   "cell_type": "code",
   "execution_count": 2,
   "metadata": {},
   "outputs": [],
   "source": [
    "#### CUSTOMIZE AS NEEDED ####\n",
    "path_tart_weights = '/home/blee/code/TART/tart_heads/head_d16_s258_m10_bs128_bd32_vno_false/'\n",
    "model_chkpt = \"model_24000.pt\"\n",
    "cache_dir = '/home/blee/code/TART/cache'\n",
    "path_tart_config = 'tart_conf.yaml'  # if you are using the pre-trained module above, don't change this!\n",
    "data_dir_path = '/home/blee/code/TART/data'"
   ]
  },
  {
   "cell_type": "code",
   "execution_count": 3,
   "metadata": {},
   "outputs": [],
   "source": [
    "# EMBED_MODELS = [\"EleutherAI/gpt-neo-125m\"]\n",
    "# EMBED_MODELS = [\"google/vit-large-patch16-224-in21k\"]\n",
    "EMBED_MODELS = [\"google/vit-large-patch16-224-in21k\", \"EleutherAI/gpt-neo-125m\"]\n",
    "EMBED_METHODS = [\"stream\", \"stream\"]\n",
    "PATH_TO_PRETRAINED_HEAD = f\"{path_tart_weights}/model_24000.pt\"\n",
    "TART_CONFIG = yaml.load(open(path_tart_config, \"r\"), Loader=yaml.FullLoader)\n",
    "TOTAL_TRAIN_SAMPLES = TART_CONFIG['n_positions'] - 2\n",
    "PATH_TO_FINETUNED_EMBED_MODEL = None\n",
    "CACHE_DIR = cache_dir\n",
    "NUM_PCA_COMPONENTS = 16"
   ]
  },
  {
   "cell_type": "code",
   "execution_count": 4,
   "metadata": {},
   "outputs": [
    {
     "name": "stdout",
     "output_type": "stream",
     "text": [
      "loading model\n"
     ]
    }
   ],
   "source": [
    "tart_module = Tart(\n",
    "    embed_model_names=EMBED_MODELS,\n",
    "    path_to_pretrained_head=PATH_TO_PRETRAINED_HEAD,\n",
    "    tart_head_config=TART_CONFIG,\n",
    "    embed_methods=EMBED_METHODS,\n",
    "    combination_method=\"average\",\n",
    "    num_pca_components=NUM_PCA_COMPONENTS,\n",
    "    path_to_finetuned_embed_model=PATH_TO_FINETUNED_EMBED_MODEL,\n",
    "    cache_dir=CACHE_DIR,\n",
    ")"
   ]
  },
  {
   "cell_type": "code",
   "execution_count": 5,
   "metadata": {},
   "outputs": [],
   "source": [
    "DATASET_NAME = \"red_caps\"\n",
    "DOMAIN = \"multi_image_text\"\n",
    "k_range = [18, 32, 48, 64, 128]\n",
    "max_eval_samples = 1000\n",
    "pos_class = 0\n",
    "neg_class = 1"
   ]
  },
  {
   "cell_type": "code",
   "execution_count": 6,
   "metadata": {},
   "outputs": [
    {
     "name": "stderr",
     "output_type": "stream",
     "text": [
      "Found cached dataset red_caps (/home/blee/code/TART/cache/red_caps/blacksmith/1.0.0/d0d70a901e22f5e3b9a7af1f96f31c6243589705a5ab782b9ac69fcf727d97be)\n"
     ]
    },
    {
     "data": {
      "application/json": {
       "ascii": false,
       "bar_format": null,
       "colour": null,
       "elapsed": 0.0038461685180664062,
       "initial": 0,
       "n": 0,
       "ncols": null,
       "nrows": 95,
       "postfix": null,
       "prefix": "",
       "rate": null,
       "total": 1,
       "unit": "it",
       "unit_divisor": 1000,
       "unit_scale": false
      },
      "application/vnd.jupyter.widget-view+json": {
       "model_id": "7d35da1a64844960aa73c8ad49c5c515",
       "version_major": 2,
       "version_minor": 0
      },
      "text/plain": [
       "  0%|          | 0/1 [00:00<?, ?it/s]"
      ]
     },
     "metadata": {},
     "output_type": "display_data"
    },
    {
     "name": "stderr",
     "output_type": "stream",
     "text": [
      "Found cached dataset red_caps (/home/blee/code/TART/cache/red_caps/dogpictures/1.0.0/d0d70a901e22f5e3b9a7af1f96f31c6243589705a5ab782b9ac69fcf727d97be)\n"
     ]
    },
    {
     "data": {
      "application/json": {
       "ascii": false,
       "bar_format": null,
       "colour": null,
       "elapsed": 0.0024116039276123047,
       "initial": 0,
       "n": 0,
       "ncols": null,
       "nrows": 95,
       "postfix": null,
       "prefix": "",
       "rate": null,
       "total": 1,
       "unit": "it",
       "unit_divisor": 1000,
       "unit_scale": false
      },
      "application/vnd.jupyter.widget-view+json": {
       "model_id": "8876fa762abb462a88698f4e5b9b8d06",
       "version_major": 2,
       "version_minor": 0
      },
      "text/plain": [
       "  0%|          | 0/1 [00:00<?, ?it/s]"
      ]
     },
     "metadata": {},
     "output_type": "display_data"
    },
    {
     "name": "stderr",
     "output_type": "stream",
     "text": [
      "Loading cached shuffled indices for dataset at /home/blee/code/TART/cache/red_caps/blacksmith/1.0.0/d0d70a901e22f5e3b9a7af1f96f31c6243589705a5ab782b9ac69fcf727d97be/cache-c06d30dbf1df2152.arrow\n",
      "Loading cached shuffled indices for dataset at /home/blee/code/TART/cache/red_caps/dogpictures/1.0.0/d0d70a901e22f5e3b9a7af1f96f31c6243589705a5ab782b9ac69fcf727d97be/cache-99c89bd6d71725a6.arrow\n"
     ]
    },
    {
     "name": "stdout",
     "output_type": "stream",
     "text": [
      "Downloading RedCaps images (this may take a while)...)\n"
     ]
    },
    {
     "name": "stderr",
     "output_type": "stream",
     "text": [
      "100%|███████████████████████████████████████████████████████████████████████████████████████████████████████████████████████████| 800/800 [00:19<00:00, 40.26it/s]\n"
     ]
    }
   ],
   "source": [
    "dataset = DATASET_REGISTRY[DOMAIN][DATASET_NAME](\n",
    "    total_train_samples=TOTAL_TRAIN_SAMPLES,\n",
    "    k_range=k_range,\n",
    "    seed=0,\n",
    "    cache_dir=CACHE_DIR,\n",
    "    pos_class=pos_class,\n",
    "    neg_class=neg_class,\n",
    "    data_dir_path=data_dir_path,\n",
    ")\n",
    "\n",
    "X_train, y_train, X_test, y_test = dataset.get_dataset"
   ]
  },
  {
   "cell_type": "code",
   "execution_count": 7,
   "metadata": {},
   "outputs": [
    {
     "name": "stdout",
     "output_type": "stream",
     "text": [
      "Embedding ICL examples...\n",
      "Embedding modality 0\n"
     ]
    },
    {
     "name": "stderr",
     "output_type": "stream",
     "text": [
      "100%|█████████████████████████████████████████████████████████████████████████████████████████████████████████████████████████████| 18/18 [00:00<00:00, 27.19it/s]\n",
      "100%|███████████████████████████████████████████████████████████████████████████████████████████████████████████████████████████| 591/591 [00:06<00:00, 89.37it/s]\n"
     ]
    },
    {
     "name": "stdout",
     "output_type": "stream",
     "text": [
      "Embedding modality 1\n",
      "Combining embeddings\n",
      "Predicting labels...\n"
     ]
    },
    {
     "name": "stderr",
     "output_type": "stream",
     "text": [
      "591it [00:03, 171.92it/s]\n"
     ]
    },
    {
     "name": "stdout",
     "output_type": "stream",
     "text": [
      "Accuracy at 18 samples: 0.7411167512690355\n",
      "Embedding ICL examples...\n",
      "Embedding modality 0\n"
     ]
    },
    {
     "name": "stderr",
     "output_type": "stream",
     "text": [
      "100%|█████████████████████████████████████████████████████████████████████████████████████████████████████████████████████████████| 32/32 [00:00<00:00, 90.13it/s]\n",
      "100%|███████████████████████████████████████████████████████████████████████████████████████████████████████████████████████████| 591/591 [00:06<00:00, 89.19it/s]\n"
     ]
    },
    {
     "name": "stdout",
     "output_type": "stream",
     "text": [
      "Embedding modality 1\n",
      "Combining embeddings\n",
      "Predicting labels...\n"
     ]
    },
    {
     "name": "stderr",
     "output_type": "stream",
     "text": [
      "591it [00:03, 169.75it/s]\n"
     ]
    },
    {
     "name": "stdout",
     "output_type": "stream",
     "text": [
      "Accuracy at 32 samples: 0.7715736040609137\n",
      "Embedding ICL examples...\n",
      "Embedding modality 0\n"
     ]
    },
    {
     "name": "stderr",
     "output_type": "stream",
     "text": [
      "100%|█████████████████████████████████████████████████████████████████████████████████████████████████████████████████████████████| 48/48 [00:00<00:00, 90.01it/s]\n",
      "100%|███████████████████████████████████████████████████████████████████████████████████████████████████████████████████████████| 591/591 [00:06<00:00, 89.13it/s]\n"
     ]
    },
    {
     "name": "stdout",
     "output_type": "stream",
     "text": [
      "Embedding modality 1\n",
      "Combining embeddings\n",
      "Predicting labels...\n"
     ]
    },
    {
     "name": "stderr",
     "output_type": "stream",
     "text": [
      "591it [00:03, 172.11it/s]\n"
     ]
    },
    {
     "name": "stdout",
     "output_type": "stream",
     "text": [
      "Accuracy at 48 samples: 0.8240270727580372\n",
      "Embedding ICL examples...\n",
      "Embedding modality 0\n"
     ]
    },
    {
     "name": "stderr",
     "output_type": "stream",
     "text": [
      "100%|█████████████████████████████████████████████████████████████████████████████████████████████████████████████████████████████| 64/64 [00:00<00:00, 90.38it/s]\n",
      "100%|███████████████████████████████████████████████████████████████████████████████████████████████████████████████████████████| 591/591 [00:06<00:00, 89.10it/s]\n"
     ]
    },
    {
     "name": "stdout",
     "output_type": "stream",
     "text": [
      "Embedding modality 1\n",
      "Combining embeddings\n",
      "Predicting labels...\n"
     ]
    },
    {
     "name": "stderr",
     "output_type": "stream",
     "text": [
      "591it [00:03, 172.47it/s]\n"
     ]
    },
    {
     "name": "stdout",
     "output_type": "stream",
     "text": [
      "Accuracy at 64 samples: 0.8883248730964467\n",
      "128 is larger than the number of available training samples, setting k to the max available (64)\n",
      "Embedding ICL examples...\n",
      "Embedding modality 0\n"
     ]
    },
    {
     "name": "stderr",
     "output_type": "stream",
     "text": [
      "100%|█████████████████████████████████████████████████████████████████████████████████████████████████████████████████████████████| 64/64 [00:00<00:00, 90.28it/s]\n",
      "100%|███████████████████████████████████████████████████████████████████████████████████████████████████████████████████████████| 591/591 [00:06<00:00, 89.13it/s]\n"
     ]
    },
    {
     "name": "stdout",
     "output_type": "stream",
     "text": [
      "Embedding modality 1\n",
      "Combining embeddings\n",
      "Predicting labels...\n"
     ]
    },
    {
     "name": "stderr",
     "output_type": "stream",
     "text": [
      "591it [00:03, 172.76it/s]"
     ]
    },
    {
     "name": "stdout",
     "output_type": "stream",
     "text": [
      "Accuracy at 128 samples: 0.883248730964467\n"
     ]
    },
    {
     "name": "stderr",
     "output_type": "stream",
     "text": [
      "\n"
     ]
    }
   ],
   "source": [
    "results_at_k = {}\n",
    "with torch.no_grad():\n",
    "    for k in k_range:\n",
    "        result = tart_module.evaluate(\n",
    "            X_train=X_train,\n",
    "            y_train=y_train,\n",
    "            X_test=X_test,\n",
    "            y_test=y_test,\n",
    "            k=k,\n",
    "            seed=0,\n",
    "            # text_threshold=1000,\n",
    "        )\n",
    "        results_at_k[k] = result\n",
    "        print(f\"Accuracy at {k} samples: {result['accuracy']}\")\n"
   ]
  }
 ],
 "metadata": {
  "kernelspec": {
   "display_name": "Python 3 (ipykernel)",
   "language": "python",
   "name": "python3"
  },
  "language_info": {
   "codemirror_mode": {
    "name": "ipython",
    "version": 3
   },
   "file_extension": ".py",
   "mimetype": "text/x-python",
   "name": "python",
   "nbconvert_exporter": "python",
   "pygments_lexer": "ipython3",
   "version": "3.9.16"
  }
 },
 "nbformat": 4,
 "nbformat_minor": 2
}
